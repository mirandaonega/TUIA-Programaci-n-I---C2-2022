{
  "nbformat": 4,
  "nbformat_minor": 0,
  "metadata": {
    "colab": {
      "provenance": []
    },
    "kernelspec": {
      "name": "python3",
      "display_name": "Python 3"
    },
    "language_info": {
      "name": "python"
    }
  },
  "cells": [
    {
      "cell_type": "markdown",
      "source": [
        "# Práctica de cadenas"
      ],
      "metadata": {
        "id": "_d9VpHC3s6-e"
      }
    },
    {
      "cell_type": "markdown",
      "source": [
        "**Ejercicio 1** Al realizar una consulta en un registro hemos obtenido una cadena de texto corrupta al revés. Al parecer contiene el nombre de un alumno y la nota de un exámen. ¿Cómo podríamos formatear la cadena y conseguir una estructura como la siguiente?:\n",
        "\n",
        "* **Nombre Apellido** ha sacado un 'Nota' de nota.  \n",
        "\n",
        "Ayuda: Para voltear una cadena rápidamente utilizando slicing podemos utilizar un tercer índice -1: cadena[::-1]"
      ],
      "metadata": {
        "id": "aRoCADD4z-yg"
      }
    },
    {
      "cell_type": "code",
      "source": [
        "cadena = \"zeréP nauJ,01\"\n",
        "alumno_nota = cadena[::-1]\n",
        "nombre_apellido = alumno_nota[3:]\n",
        "nota = alumno_nota[:2]\n",
        "print(nombre_apellido, \"ha sacado un\", nota, \"de nota.\")"
      ],
      "metadata": {
        "id": "Zsiq9uZn00kZ",
        "colab": {
          "base_uri": "https://localhost:8080/"
        },
        "outputId": "b577c935-7193-47c2-9f00-7b4eac9d35ac"
      },
      "execution_count": null,
      "outputs": [
        {
          "output_type": "stream",
          "name": "stdout",
          "text": [
            "Juan Pérez ha sacado un 10 de nota.\n"
          ]
        }
      ]
    },
    {
      "cell_type": "markdown",
      "source": [
        "**Ejercicio 2**\n",
        "Escribir un programa que pregunte el nombre c\n",
        "del usuario en la consola y después muestre por pantalla el nombre del usuario tres veces, una con todas las letras minúsculas, otra con todas las letras mayúsculas y otra solo con la primera letra del nombre en mayúscula."
      ],
      "metadata": {
        "id": "4CGjGC8korFU"
      }
    },
    {
      "cell_type": "code",
      "source": [
        "nombre = input(\"Ingrese su nombre: \")\n",
        "print(nombre[:].lower(),nombre[:].upper(), (nombre[0].upper() + nombre[1:].lower()))"
      ],
      "metadata": {
        "colab": {
          "base_uri": "https://localhost:8080/"
        },
        "id": "TWtTI-9KEUKF",
        "outputId": "03ba6037-1e95-45bb-bd95-db2b33c66280"
      },
      "execution_count": null,
      "outputs": [
        {
          "output_type": "stream",
          "name": "stdout",
          "text": [
            "Ingrese su nombre: Miranda\n",
            "miranda MIRANDA Miranda\n"
          ]
        }
      ]
    },
    {
      "cell_type": "markdown",
      "source": [
        "**Ejercicio 3**\n",
        "Escribir un programa que pregunte al usuario la fecha de su nacimiento en formato dd/mm/aaaa y muestra por pantalla, el día, el mes y el año. "
      ],
      "metadata": {
        "id": "QJXqWqjbo0v0"
      }
    },
    {
      "cell_type": "code",
      "source": [
        "fecha_nacimiento = input(\"Ingrese su fecha de nacimiento (dd/mm/aaaa): \")\n",
        "dia = fecha_nacimiento[:2]\n",
        "mes = fecha_nacimiento[3:5]\n",
        "año = fecha_nacimiento[6:]\n",
        "print(\"Día: \"+dia, \"Mes: \"+mes, \"Año: \"+año)"
      ],
      "metadata": {
        "colab": {
          "base_uri": "https://localhost:8080/"
        },
        "id": "sXbaFv1rGZm7",
        "outputId": "f1c0d502-1b31-44af-a4c9-cfa5eacb098b"
      },
      "execution_count": null,
      "outputs": [
        {
          "output_type": "stream",
          "name": "stdout",
          "text": [
            "Ingrese su fecha de nacimiento (dd/mm/aaaa): 16/12/2002\n",
            "Día: 16 Mes: 12 Año: 2002\n"
          ]
        }
      ]
    },
    {
      "cell_type": "markdown",
      "source": [
        "**Ejercicio 4**\n",
        "Escribir un programa que pregunte por consola el precio de un producto en pesos con dos decimales y muestre por pantalla el número de pesos y el número de centavos del precio introducido."
      ],
      "metadata": {
        "id": "BbtGPq2Qo2-N"
      }
    },
    {
      "cell_type": "code",
      "source": [
        "precio_decimales = input(\"Precio del producto en pesos con dos decimales: \")\n",
        "num_pesos = precio_decimales[:-3]\n",
        "num_centavos = precio_decimales[-2:]\n",
        "print(\"Pesos: \"+num_pesos, \"Centavos: \"+num_centavos)"
      ],
      "metadata": {
        "colab": {
          "base_uri": "https://localhost:8080/"
        },
        "id": "7E71Hs9WJgxb",
        "outputId": "e01bd3de-571c-48ee-d26f-ce4a30e26098"
      },
      "execution_count": null,
      "outputs": [
        {
          "output_type": "stream",
          "name": "stdout",
          "text": [
            "Precio del producto en pesos con dos decimales: 15698,55\n",
            "Pesos: 15698 Centavos: 55\n"
          ]
        }
      ]
    },
    {
      "cell_type": "markdown",
      "source": [
        "# Práctica métodos y funciones built in"
      ],
      "metadata": {
        "id": "PG0_CG8t15Tk"
      }
    },
    {
      "cell_type": "markdown",
      "source": [
        "**Ejercicio 1** Escribir un programa que le pregunte a las personas su fecha de nacimiento y en base a eso imprimir su signo zodıacal.\n",
        "\n",
        "El formato de ingreso de la fecha debe ser DD/MM/YY. \n",
        "Tener en cuenta que el usuario puede no ingresar el '0' del mes o el dia, investigar que metodo nos puede facilitar la tarea."
      ],
      "metadata": {
        "id": "6upib1wwwQTm"
      }
    },
    {
      "cell_type": "code",
      "source": [
        "fecha_nacimiento = input(\"Ingrese su fecha de nacimiento (DD/MM/YY): \")\n",
        "fecha = fecha_nacimiento.split('/')\n",
        "dia = int(fecha[0])\n",
        "mes = int(fecha[1])\n",
        "if mes == 1:\n",
        "  if dia in range(1, 21):\n",
        "    print(\"Su signo zodiacal es: Capricornio.\")\n",
        "  elif dia in range(21, 32):\n",
        "    print(\"Su signo zodiacal es: Acuario.\")\n",
        "  else: \n",
        "    print(\"Fecha incorrecta.\")\n",
        "elif mes == 2:\n",
        "  if dia in range(1, 19):\n",
        "    print(\"Su signo zodiacal es: Acuario.\")\n",
        "  elif dia in range(19, 30):\n",
        "    print(\"Su signo zodiacal es: Piscis.\")\n",
        "  else:\n",
        "    print(\"Fecha incorrecta.\")\n",
        "elif mes == 3:\n",
        "  if dia in range(1, 21):\n",
        "    print(\"Su signo zodiacal es: Piscis.\")\n",
        "  elif dia in range(21, 32):\n",
        "    print(\"Su signo zodiacal es: Aries.\")\n",
        "  else:\n",
        "    print(\"Fecha incorrecta.\")\n",
        "elif mes == 4:\n",
        "  if dia in range(1, 21):\n",
        "    print(\"Su signo zodiacal es: Aries.\")\n",
        "  elif dia in range(21, 31):\n",
        "    print(\"Su signo zodiacal es: Tauro.\")\n",
        "  else:\n",
        "    print(\"Fecha incorrecta.\")\n",
        "elif mes == 5:\n",
        "  if dia in range(1, 21):\n",
        "    print(\"Su signo zodiacal es: Tauro.\")\n",
        "  elif dia in range(21, 32):\n",
        "    print(\"Su signo zodiacal es: Géminis.\")\n",
        "  else:\n",
        "    print(\"Fecha incorrecta.\")\n",
        "elif mes == 6:\n",
        "  if dia in range(1, 22):\n",
        "    print(\"Su signo zodiacal es: Géminis.\")\n",
        "  elif dia in range(22, 31):\n",
        "    print(\"Su signo zodiacal es: Cáncer.\")\n",
        "  else:\n",
        "    print(\"Fecha incorrecta.\")\n",
        "elif mes == 7:\n",
        "  if dia in range(1, 22):\n",
        "    print(\"Su signo zodiacal es: Cáncer.\")\n",
        "  elif dia in range(22, 32):\n",
        "    print(\"Su signo zodiacal es: Leo.\")\n",
        "  else:\n",
        "   print(\"Fecha incorrecta.\")\n",
        "elif mes == 8:\n",
        "  if dia in range(1, 24):\n",
        "    print(\"Su signo zodiacal es: Leo.\")\n",
        "  elif dia in range(24, 32):\n",
        "    print(\"Su signo zodiacal es: Virgo.\")\n",
        "  else:\n",
        "   print(\"Fecha incorrecta.\")\n",
        "elif mes == 9:\n",
        "  if dia in range(1, 24):\n",
        "    print(\"Su signo zodiacal es: Virgo.\")\n",
        "  elif dia in range(24, 31):\n",
        "    print(\"Su signo zodiacal es: Libra.\")\n",
        "  else:\n",
        "    print(\"Fecha incorrecta.\")\n",
        "elif mes == 10:\n",
        "  if dia in range(1, 23):\n",
        "    print(\"Su signo zodiacal es: Libra.\")\n",
        "  elif dia in range(23, 32):\n",
        "    print(\"Su signo zodiacal es: Escorpio.\")\n",
        "  else:\n",
        "    print(\"Fecha incorrecta.\")\n",
        "elif mes == 11:\n",
        "  if dia in range(1, 23):\n",
        "    print(\"Su signo zodiacal es: Escorpio.\")\n",
        "  elif dia in range(23, 31):\n",
        "    print(\"Su signo zodiacal es: Sagitario.\")\n",
        "  else:\n",
        "   print(\"Fecha incorrecta.\")\n",
        "elif mes == 12:\n",
        "  if dia in range(1, 22):\n",
        "    print(\"Su signo zodiacal es: Sagitario.\")\n",
        "  elif dia in range(22, 32):\n",
        "    print(\"Su signo zodiacal es: Capricornio.\")\n",
        "  else:\n",
        "   print(\"Fecha incorrecta.\")\n",
        "else:\n",
        "  print(\"Fecha incorrecta.\")"
      ],
      "metadata": {
        "colab": {
          "base_uri": "https://localhost:8080/"
        },
        "id": "23gtd4jq_R64",
        "outputId": "f499088d-1474-4f7a-e5dc-aa0d2ad7350d"
      },
      "execution_count": null,
      "outputs": [
        {
          "output_type": "stream",
          "name": "stdout",
          "text": [
            "Ingrese su fecha de nacimiento (DD/MM/YY): 6/9/02\n",
            "Su signo zodiacal es: Virgo.\n"
          ]
        }
      ]
    },
    {
      "cell_type": "markdown",
      "source": [
        "**Ejercicio 2** Realizar el ejercicio 1 de la práctica de cadenas utilizando una función Built-in"
      ],
      "metadata": {
        "id": "XFJsZET61eze"
      }
    },
    {
      "cell_type": "code",
      "source": [
        "cadena = \"zeréP nauJ ,01\"\n",
        "alumno_nota = ''.join(reversed(cadena))\n",
        "nombre_apellido = alumno_nota[3:]\n",
        "nota = alumno_nota[:2]\n",
        "print(nombre_apellido, \"ha sacado un\", nota, \"de nota.\")"
      ],
      "metadata": {
        "colab": {
          "base_uri": "https://localhost:8080/"
        },
        "id": "bYbqUxAlPCRD",
        "outputId": "343d0d7b-8b1e-4041-bd3b-660f6aafadf6"
      },
      "execution_count": null,
      "outputs": [
        {
          "output_type": "stream",
          "name": "stdout",
          "text": [
            " Juan Pérez ha sacado un 10 de nota.\n"
          ]
        }
      ]
    },
    {
      "cell_type": "markdown",
      "source": [
        "**Ejercicio 3** Dada una lista de valores ordenarla de forma ascendente y luego descendente.\n",
        "\n",
        "Ayuda: investigar *sorted* y *sort*"
      ],
      "metadata": {
        "id": "W1Us3dUA3TdL"
      }
    },
    {
      "cell_type": "code",
      "source": [
        "lista = list(input(\"Ingrese valores: \"))\n",
        "ascendente = lista.sort()\n",
        "print(lista)\n",
        "descendente = sorted(lista, reverse=True)\n",
        "print(descendente)"
      ],
      "metadata": {
        "colab": {
          "base_uri": "https://localhost:8080/"
        },
        "id": "totJkiUcPDU8",
        "outputId": "ede5c2f2-227a-4948-938c-ab685e99316b"
      },
      "execution_count": null,
      "outputs": [
        {
          "output_type": "stream",
          "name": "stdout",
          "text": [
            "Ingrese valores: 456987123\n",
            "['1', '2', '3', '4', '5', '6', '7', '8', '9']\n",
            "['9', '8', '7', '6', '5', '4', '3', '2', '1']\n"
          ]
        }
      ]
    },
    {
      "cell_type": "markdown",
      "source": [
        "# Práctica de funciones"
      ],
      "metadata": {
        "id": "ZXl5_ySxtAOs"
      }
    },
    {
      "cell_type": "markdown",
      "source": [
        "**Ejercicio 1**\n",
        "Escribir una función que muestre por pantalla el saludo ¡Hola amiga! cada vez que se la invoque."
      ],
      "metadata": {
        "id": "XqEFK47UtDFh"
      }
    },
    {
      "cell_type": "code",
      "source": [
        "def saludo():\n",
        "  \"\"\" \n",
        "  La función saludo es una función que no toma ningún parámetro y devuelve el ¡Hola amiga!.\n",
        "  \"\"\"\n",
        "  print(\"¡Hola amiga!\")\n",
        "\n",
        "saludo()"
      ],
      "metadata": {
        "colab": {
          "base_uri": "https://localhost:8080/"
        },
        "id": "gm_wjRP0VLTz",
        "outputId": "24a22936-01b0-4eb9-b039-a91cc954ebbd"
      },
      "execution_count": null,
      "outputs": [
        {
          "output_type": "stream",
          "name": "stdout",
          "text": [
            "¡Hola amiga!\n"
          ]
        }
      ]
    },
    {
      "cell_type": "markdown",
      "source": [
        "**Ejercicio 2**\n",
        "Escribir una función a la que se le pase una cadena < nombre > y muestre por pantalla el saludo ¡hola < nombre >!."
      ],
      "metadata": {
        "id": "6OXTbUsDtGSP"
      }
    },
    {
      "cell_type": "code",
      "source": [
        "def saludo_personalizado(nombre):\n",
        "  \"\"\"\n",
        "  La función saludo_personalizado es una función que toma como parámetro la cadena <nombre> y devuelve ¡hola <nombre>!.\n",
        "  \"\"\"\n",
        "  print(\"¡hola\", nombre+\"!\")\n",
        "\n",
        "saludo_personalizado('Miranda')"
      ],
      "metadata": {
        "id": "rqzr8AKsVjpD",
        "colab": {
          "base_uri": "https://localhost:8080/"
        },
        "outputId": "8588d845-d0f0-4ab5-deb4-fa33137fc853"
      },
      "execution_count": null,
      "outputs": [
        {
          "output_type": "stream",
          "name": "stdout",
          "text": [
            "¡hola Miranda!\n"
          ]
        }
      ]
    },
    {
      "cell_type": "markdown",
      "source": [
        "**Ejercicio 3**\n",
        "Escribir una función que calcule el total de una factura tras aplicarle el IVA. La función debe recibir la cantidad sin IVA y el porcentaje de IVA a aplicar, y devolver el total de la factura. "
      ],
      "metadata": {
        "id": "MI9uFBvDtORh"
      }
    },
    {
      "cell_type": "code",
      "source": [
        "def factura(sin_iva, porcentaje_iva):\n",
        "  \"\"\"\n",
        "  La función factura toma como parámetros el total de una factura sin incluir IVA y el porcentaje del IVA, y devuelve el total de la factura con el IVA incluido.\n",
        "  \"\"\"\n",
        "  total = sin_iva + (sin_iva * porcentaje_iva / 100)\n",
        "  print(\"El total de la factura con IVA incluido es: $\", total)\n",
        "\n",
        "factura(1560, 21)"
      ],
      "metadata": {
        "id": "jN1ngM4_W45r",
        "colab": {
          "base_uri": "https://localhost:8080/"
        },
        "outputId": "2ad17530-91f6-4da0-956e-299072124e40"
      },
      "execution_count": null,
      "outputs": [
        {
          "output_type": "stream",
          "name": "stdout",
          "text": [
            "El total de la factura con IVA incluido es: $ 1887.6\n"
          ]
        }
      ]
    },
    {
      "cell_type": "markdown",
      "source": [
        "**Ejercicio 4** Realizar una función que tome como parámetros 3 números, se fije cual es el número más grande (N) y el más chico (M) y devuelva la potencia de Nᴹ.\n",
        "Utilizar solo funciones built in."
      ],
      "metadata": {
        "id": "PORApgqa1xv0"
      }
    },
    {
      "cell_type": "code",
      "source": [
        "def potencia_nm(a, b, c):\n",
        "  \"\"\"\n",
        "  La función potencia_nm toma como parámetros tres números y devuelve la potencia del mayor número elevado al menor número.\n",
        "  \"\"\"\n",
        "  N = max(a, b, c)\n",
        "  M = min(a, b, c)\n",
        "  return pow(N, M)\n",
        "\n",
        "potencia_nm(2, 6, 12)"
      ],
      "metadata": {
        "id": "e5vBRUv9W570",
        "colab": {
          "base_uri": "https://localhost:8080/"
        },
        "outputId": "27dc646b-20b5-48b2-a69a-f3789a20a6de"
      },
      "execution_count": null,
      "outputs": [
        {
          "output_type": "execute_result",
          "data": {
            "text/plain": [
              "144"
            ]
          },
          "metadata": {},
          "execution_count": 73
        }
      ]
    },
    {
      "cell_type": "markdown",
      "source": [
        "# Práctica adicional\n"
      ],
      "metadata": {
        "id": "HIe-TWrcGtMm"
      }
    },
    {
      "cell_type": "markdown",
      "source": [
        "Genere una función a la que se ingresan dos parámetros:\n",
        "+ una variable que permita seleccionar el cálculo\n",
        "+ una cadena que contenga dos valores numéricos separados por un punto y coma de la forma \"24;78\"\n",
        "\n",
        "La función debe generar el calculo deseado e imprimir por pantalla un formato\n",
        "como el que sigue:"
      ],
      "metadata": {
        "id": "8-MI0AHALcC8"
      }
    },
    {
      "cell_type": "markdown",
      "source": [
        "# ![cuenta.jpg](data:image/jpeg;base64,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)"
      ],
      "metadata": {
        "id": "PYnolDBWLp58"
      }
    },
    {
      "cell_type": "markdown",
      "source": [
        "Con las variantes tanto en cálculo como en formato según los parámetros utilizados."
      ],
      "metadata": {
        "id": "KD5wdv_3LxNE"
      }
    },
    {
      "cell_type": "code",
      "source": [
        "def calcular(calculo, numeros):\n",
        "  \"\"\"\n",
        "  La función calcular toma dos parámetros, un string de un operador aritmético \"+\" o \"-\", y un string de los números \n",
        "  con un formato \"numero;numero\" y devuelve el planteo del cálculo y su resultado.\n",
        "  \"\"\"\n",
        "  numeros_ = numeros.split(';')\n",
        "  numero_1 = int(numeros_[0])\n",
        "  numero_2 = int(numeros_[1])\n",
        "  if calculo == \"+\":\n",
        "    print('    ', numero_1, '\\n', ' ', calculo, numero_2, '\\n', \"- - - - - -\", '\\n', '   ', (numero_1 + numero_2))\n",
        "  elif calculo == \"-\":\n",
        "    print('    ', numero_1, '\\n', ' ', calculo, numero_2, '\\n', \"- - - - - -\", '\\n', '   ', (numero_1 - numero_2))\n",
        "\n",
        "calcular('+', \"24;48\")\n",
        "calcular('-', \"100;75\")"
      ],
      "metadata": {
        "colab": {
          "base_uri": "https://localhost:8080/"
        },
        "id": "L4tkkZ1kLiNd",
        "outputId": "f7be320f-a920-4d2f-f0e7-7cf06f69b842"
      },
      "execution_count": null,
      "outputs": [
        {
          "output_type": "stream",
          "name": "stdout",
          "text": [
            "     24 \n",
            "   + 48 \n",
            " - - - - - - \n",
            "     72\n",
            "     100 \n",
            "   - 75 \n",
            " - - - - - - \n",
            "     25\n"
          ]
        }
      ]
    }
  ]
}
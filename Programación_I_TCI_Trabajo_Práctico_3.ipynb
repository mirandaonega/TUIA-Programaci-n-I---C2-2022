{
  "nbformat": 4,
  "nbformat_minor": 0,
  "metadata": {
    "colab": {
      "provenance": []
    },
    "kernelspec": {
      "name": "python3",
      "display_name": "Python 3"
    },
    "language_info": {
      "name": "python"
    }
  },
  "cells": [
    {
      "cell_type": "markdown",
      "source": [
        "# Práctica bucle for"
      ],
      "metadata": {
        "id": "Hzy7DLjYeyVV"
      }
    },
    {
      "cell_type": "markdown",
      "source": [
        "**Ejercicio 1** Genere una función que permita ingresar un rango de números y el paso entre valores del rango. Y de como resultado la suma de los enteros que se incluyen en ese rango, tomando en cuenta el paso ingresado entre unidades."
      ],
      "metadata": {
        "id": "UbPhsYfIe2gL"
      }
    },
    {
      "cell_type": "code",
      "source": [
        "def suma_enteros_rango(rango, paso):\n",
        "  \"\"\"\n",
        "  La función suma_enteros_rango toma dos parámetros, string que un rango de valores de la forma 'número,número' y un int que es el paso entre los valores \n",
        "  del rango, y devuelve la suma de los int incluidos en el rango teniendo en cuenta el paso.\n",
        "  \"\"\"\n",
        "  rango = rango.split(',')\n",
        "  suma_numeros = 0\n",
        "  for numeros in range(int(rango[0]), int(rango[1]), int(paso)):\n",
        "    suma_numeros += numeros\n",
        "  return suma_numeros\n",
        "\n",
        "suma_enteros_rango(\"1,6\", 2)"
      ],
      "metadata": {
        "colab": {
          "base_uri": "https://localhost:8080/"
        },
        "id": "49tFBxqkUKEO",
        "outputId": "6e6e9929-e34e-4de4-c7a2-b6f3b2f54704"
      },
      "execution_count": null,
      "outputs": [
        {
          "output_type": "execute_result",
          "data": {
            "text/plain": [
              "9"
            ]
          },
          "metadata": {},
          "execution_count": 20
        }
      ]
    },
    {
      "cell_type": "markdown",
      "source": [
        "**Ejercicio 2** Genere una funcion que a partir de una frase ingresada cuente el número de vocales que corresponden a dicha frase y devuelva la cantidad por pantalla. \n"
      ],
      "metadata": {
        "id": "eaciG_Svho5G"
      }
    },
    {
      "cell_type": "code",
      "source": [
        "def contador_vocales(frase):\n",
        "  \"\"\"\n",
        "  La función contador_vocales toma un string como parámetro y devuelve la cantidad de vocales que hay en ella.\n",
        "  \"\"\"\n",
        "  co_vocales = 0\n",
        "  for letras in frase.lower():\n",
        "    if letras == 'a' or letras == 'e' or letras == 'i' or letras == 'o' or letras == 'u':\n",
        "      co_vocales += 1\n",
        "    else:\n",
        "      None\n",
        "  return co_vocales\n",
        "\n",
        "contador_vocales('Tecnicatura en Inteligencia Artificial')"
      ],
      "metadata": {
        "colab": {
          "base_uri": "https://localhost:8080/"
        },
        "id": "8WvFbRi6Yztn",
        "outputId": "9f2cfc98-339b-4759-b919-d5009d70c478"
      },
      "execution_count": null,
      "outputs": [
        {
          "output_type": "execute_result",
          "data": {
            "text/plain": [
              "17"
            ]
          },
          "metadata": {},
          "execution_count": 6
        }
      ]
    },
    {
      "cell_type": "markdown",
      "source": [
        "**Ejercicio 3** Escriba una funcion que a partir de una frase ingresada verifique si la misma es palíndromo y muestre por pantalla el resultado."
      ],
      "metadata": {
        "id": "MSfE4ptafVJp"
      }
    },
    {
      "cell_type": "code",
      "source": [
        "def palindromo(frase):\n",
        "  \"\"\"\n",
        "  La función palindromo toma un string como parámetro y verifica si el string es un palíndromo o no.\n",
        "  \"\"\"\n",
        "  frase = frase.lower()\n",
        "  al_reves = list(frase[::-1])\n",
        "  i = 0\n",
        "  largo = 0\n",
        "\n",
        "  for letras in frase:\n",
        "    if letras == al_reves[i]:\n",
        "      i += 1\n",
        "      largo += 1\n",
        "  \n",
        "  if largo == len(frase):\n",
        "    print('Es palindromo')\n",
        "  else:\n",
        "    print('No es palindromo')\n",
        "      \n",
        "\n",
        "palindromo('Neuquen')\n",
        "palindromo('hoy')"
      ],
      "metadata": {
        "colab": {
          "base_uri": "https://localhost:8080/"
        },
        "id": "93MvXZ2GhwAz",
        "outputId": "e7ee2201-b9b1-40d5-e9d4-2754f03ef9d6"
      },
      "execution_count": null,
      "outputs": [
        {
          "output_type": "stream",
          "name": "stdout",
          "text": [
            "Es palindromo\n",
            "No es palindromo\n"
          ]
        }
      ]
    },
    {
      "cell_type": "markdown",
      "source": [
        "**Ejercicio 4** Escriba una función que elimine las tildes de una frase ingresada como parámetro y devuelva la frase transformada."
      ],
      "metadata": {
        "id": "jJo4sv2ph64D"
      }
    },
    {
      "cell_type": "code",
      "source": [
        "def eliminar_tildes(frase):\n",
        "  \"\"\"\n",
        "  La función eliminar_tildes es una función que toma como parámetro un string y devuelve dicho string sin tildes.\n",
        "  \"\"\"\n",
        "  for letras in frase:\n",
        "    frase_sin_tildes = frase.replace('á','a').replace('Á','A').replace('é','e').replace('É','E').replace('í','i').replace('Í','I').replace('ó','o').replace('Ó','O').replace('ú','u').replace('Ú','U')\n",
        "\n",
        "  return frase_sin_tildes  \n",
        "\n",
        "eliminar_tildes('Prógrámácíón Cóndícíón Íntérmédíá')"
      ],
      "metadata": {
        "colab": {
          "base_uri": "https://localhost:8080/",
          "height": 35
        },
        "id": "gZr-7LK3a8CA",
        "outputId": "a8bb85a7-bd9d-43f6-e717-65cc69f1b41a"
      },
      "execution_count": null,
      "outputs": [
        {
          "output_type": "execute_result",
          "data": {
            "text/plain": [
              "'Programacion Condicion Intermedia'"
            ],
            "application/vnd.google.colaboratory.intrinsic+json": {
              "type": "string"
            }
          },
          "metadata": {},
          "execution_count": 7
        }
      ]
    },
    {
      "cell_type": "markdown",
      "source": [
        "**Ejercicio 5** Usando la lista de cadenas de abajo, generar una frase e imprimirla."
      ],
      "metadata": {
        "id": "ZOEnrXLun5Ik"
      }
    },
    {
      "cell_type": "code",
      "source": [
        "palabras = ['La', 'fceia', 'es', 'la', 'facultad', 'de', 'ciencias', 'exactas', 'ingeniería', 'y', 'agrimensura'] \n",
        "frase = ''\n",
        "\n",
        "for palabra in palabras:\n",
        "  frase += palabra + ' '\n",
        "print(frase)"
      ],
      "metadata": {
        "id": "UCmBIiXSn-k8",
        "colab": {
          "base_uri": "https://localhost:8080/"
        },
        "outputId": "383abe8e-2b6b-497e-bf1b-2dc057c540e2"
      },
      "execution_count": null,
      "outputs": [
        {
          "output_type": "stream",
          "name": "stdout",
          "text": [
            "La fceia es la facultad de ciencias exactas ingeniería y agrimensura \n"
          ]
        }
      ]
    },
    {
      "cell_type": "markdown",
      "source": [
        "# Ejercicios extra"
      ],
      "metadata": {
        "id": "sTqW5_neo_db"
      }
    },
    {
      "cell_type": "markdown",
      "source": [
        "**Ejercicio 1** Escribir un programa que le permita a una persona ingresar 10 números. Al finalizar, calcular la media, el máximo y el mínimo entre esos valores"
      ],
      "metadata": {
        "id": "R9nj_kndpQ4l"
      }
    },
    {
      "cell_type": "code",
      "source": [
        "lista_numeros = []\n",
        "\n",
        "for items in range(0,10):\n",
        "  numeros = int(input(\"Ingrese un números: \"))\n",
        "  lista_numeros.append(numeros)\n",
        "\n",
        "print(\"La media es: \", sum(lista_numeros)/len(lista_numeros))\n",
        "print(\"El máximo valor es: \", max(lista_numeros))\n",
        "print(\"El mínimo valor es: \", min(lista_numeros))"
      ],
      "metadata": {
        "colab": {
          "base_uri": "https://localhost:8080/"
        },
        "id": "wILnwQQypyi1",
        "outputId": "14b7229e-4579-4339-fb25-21f0c2055549"
      },
      "execution_count": null,
      "outputs": [
        {
          "output_type": "stream",
          "name": "stdout",
          "text": [
            "Ingrese un números: 8\n",
            "Ingrese un números: 5\n",
            "Ingrese un números: 3\n",
            "Ingrese un números: 18\n",
            "Ingrese un números: 70\n",
            "Ingrese un números: 96\n",
            "Ingrese un números: 80\n",
            "Ingrese un números: 25\n",
            "Ingrese un números: 35\n",
            "Ingrese un números: 17\n",
            "La media es:  35.7\n",
            "El máximo valor es:  96\n",
            "El mínimo valor es:  3\n"
          ]
        }
      ]
    },
    {
      "cell_type": "markdown",
      "source": [
        "**Ejercicio 2** Escribir un programa dónde se ingresen 10 edades y devuelva la cantidad de personas en cada grupo etario. \n",
        "\n",
        "*   Menor de 18 -> Menor de edad\n",
        "*   Mayor de 18 y menor de 64 -> Adulte\n",
        "*   Mayor de 64 -> Jubilade"
      ],
      "metadata": {
        "id": "F6FzLYKlpuQu"
      }
    },
    {
      "cell_type": "code",
      "source": [
        "menor = 0\n",
        "adulte = 0\n",
        "jubilade = 0\n",
        "\n",
        "for edad in range(0,10):\n",
        "  edades = int(input(\"Ingrese su edad: \"))\n",
        "  if edades < 18:\n",
        "    menor += 1\n",
        "  elif 18 <= edades < 64:\n",
        "    adulte += 1\n",
        "  elif edades > 64:\n",
        "    jubilade += 1\n",
        "  else:\n",
        "    print('Edad incorrecta.')\n",
        "\n",
        "print('Menores de edad: ', menor)\n",
        "print('Adultes: ', adulte)\n",
        "print('Jubilades: ', jubilade) "
      ],
      "metadata": {
        "id": "-Onbdg1zpx3s",
        "colab": {
          "base_uri": "https://localhost:8080/"
        },
        "outputId": "97b61763-8bbc-4779-d0b6-4bb598227a72"
      },
      "execution_count": null,
      "outputs": [
        {
          "output_type": "stream",
          "name": "stdout",
          "text": [
            "Ingrese su edad: 8\n",
            "Ingrese su edad: 10\n",
            "Ingrese su edad: 55\n",
            "Ingrese su edad: 70\n",
            "Ingrese su edad: 96\n",
            "Ingrese su edad: 25\n",
            "Ingrese su edad: 18\n",
            "Ingrese su edad: 33\n",
            "Ingrese su edad: 40\n",
            "Ingrese su edad: 7\n",
            "Menores de edad:  3\n",
            "Adultes:  5\n",
            "Jubilades:  2\n"
          ]
        }
      ]
    }
  ]
}
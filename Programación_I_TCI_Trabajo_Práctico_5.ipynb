{
  "cells": [
    {
      "cell_type": "markdown",
      "id": "975346ff",
      "metadata": {
        "id": "975346ff"
      },
      "source": [
        "## Clase 6"
      ]
    },
    {
      "cell_type": "markdown",
      "id": "62ce5593",
      "metadata": {
        "id": "62ce5593"
      },
      "source": [
        "#### Listas"
      ]
    },
    {
      "cell_type": "markdown",
      "id": "6df460bc",
      "metadata": {
        "id": "6df460bc"
      },
      "source": [
        "1. Escriba una función que reciba una lista de números calcule la suma acumulada de sus elementos y la devuelva. Es decir, una nueva lista donde el primer elemento es el mismo que en la lista original, el segundo elemento es la suma del primer y segundo elemento de la lista original, el tercer elemento es la suma del resultado anterior con el tercer elemento de la lista original y así sucesivamente. Por ejemplo, dada la lista [1, 2, 3], la suma acumulada debería ser [1, 3, 6]."
      ]
    },
    {
      "cell_type": "code",
      "source": [
        "lista = [1, 2, 3]\n",
        "\n",
        "def numeros_y_acumulados(lista):\n",
        "  \"\"\"\n",
        "  La función numeros_y_acumulados toma como parámetro una lista de números, calcula la suma acumulada de estos y la devuelve en una nueva lista. \n",
        "  \"\"\"\n",
        "  nueva_lista = []\n",
        "  suma_acumulada = 0\n",
        "  for numero in lista:\n",
        "    suma_acumulada += numero\n",
        "    nueva_lista.append(suma_acumulada)\n",
        "  return nueva_lista\n",
        "\n",
        "numeros_y_acumulados(lista)"
      ],
      "metadata": {
        "colab": {
          "base_uri": "https://localhost:8080/"
        },
        "id": "xTxptrGuipGH",
        "outputId": "d7183f26-8897-44cf-db41-370d40779b89"
      },
      "id": "xTxptrGuipGH",
      "execution_count": null,
      "outputs": [
        {
          "output_type": "execute_result",
          "data": {
            "text/plain": [
              "[1, 3, 6]"
            ]
          },
          "metadata": {},
          "execution_count": 4
        }
      ]
    },
    {
      "cell_type": "markdown",
      "id": "a1864932",
      "metadata": {
        "id": "a1864932"
      },
      "source": [
        "2. Genere una lista llamada datosPersonales, mediante el uso de un bucle donde en cada iteración se pida un solo dato de los siguientes: Nombre, Apellido, Localidad, Edad, DNI, Carrera en curso (en esta última ingrese: Tecnicatura), año de inicio de la carrera. Luego, imprima por pantalla la lista con los datos completados. (Ingrese las palabras como cadenas y los números como enteros)"
      ]
    },
    {
      "cell_type": "code",
      "source": [
        "datosPersonales = []\n",
        "\n",
        "datospersonales = ['Nombre', 'Apellido', 'Localidad', 'Edad', 'DNI', 'Carrera en curso', 'Año de inicio de la carrera']\n",
        "numero = 0\n",
        "\n",
        "for dato in datospersonales:\n",
        "  datos = input('Ingrese su ' + datospersonales[numero] + ': ')\n",
        "  if dato == datospersonales[3]:\n",
        "    datos = int(datos)\n",
        "  elif dato == datospersonales[4]:\n",
        "    datos = int(datos)\n",
        "  elif dato == datospersonales[6]:\n",
        "    datos = int(datos)\n",
        "  else:\n",
        "    None\n",
        "  datosPersonales.append(datos)\n",
        "  numero += 1\n",
        "\n",
        "print(datosPersonales)"
      ],
      "metadata": {
        "id": "nFGDPAKPiqDY",
        "colab": {
          "base_uri": "https://localhost:8080/"
        },
        "outputId": "c95464f5-d924-440a-dd00-54bc05141a80"
      },
      "id": "nFGDPAKPiqDY",
      "execution_count": null,
      "outputs": [
        {
          "output_type": "stream",
          "name": "stdout",
          "text": [
            "Ingrese su Nombre: Miranda\n",
            "Ingrese su Apellido: Onega\n",
            "Ingrese su Localidad: Rosario\n",
            "Ingrese su Edad: 19\n",
            "Ingrese su DNI: 44630427\n",
            "Ingrese su Carrera en curso: Tecnicatura\n",
            "Ingrese su Año de inicio de la carrera: 2022\n",
            "['Miranda', 'Onega', 'Rosario', 19, 44630427, 'Tecnicatura', 2022]\n"
          ]
        }
      ]
    },
    {
      "cell_type": "markdown",
      "id": "571681d6",
      "metadata": {
        "id": "571681d6"
      },
      "source": [
        "3. Tomando la lista del ejercicio anterior y la de sus 3 compañeros más proximos, genere una lista base de datos que contenga en su interior las 4 listas de datos personales. Luego, implemente un programa que imprima los datos personales de cada persona."
      ]
    },
    {
      "cell_type": "code",
      "execution_count": null,
      "id": "09e896e8",
      "metadata": {
        "id": "09e896e8",
        "colab": {
          "base_uri": "https://localhost:8080/"
        },
        "outputId": "e7b2b0c0-106f-4f7a-a646-4d5b7c0e7e49"
      },
      "outputs": [
        {
          "output_type": "stream",
          "name": "stdout",
          "text": [
            "Datos personales:  ['Miranda', 'Onega', 'Rosario', 19, 44630427, 'Tecnicatura', 2022]\n",
            "Datos personales:  ['Sofía', 'Arce', 'Rosario', 19, 44700005, 'Tecnicatura', 2022]\n",
            "Datos personales:  ['Juan', 'Pérez', 'Rosario', 22, 43523156, 'Tecnicatura', 2022]\n",
            "Datos personales:  ['Clara', 'García', 'Rosario', 21, 43952871, 'Tecnicatura', 2022]\n"
          ]
        }
      ],
      "source": [
        "datosPersonales1 = ['Miranda', 'Onega', 'Rosario', 19, 44630427, 'Tecnicatura', 2022]\n",
        "datosPersonales2 = ['Sofía', 'Arce', 'Rosario', 19, 44700005, 'Tecnicatura', 2022]\n",
        "datosPersonales3 = ['Juan', 'Pérez', 'Rosario', 22, 43523156, 'Tecnicatura', 2022]\n",
        "datosPersonales4 = ['Clara', 'García', 'Rosario', 21, 43952871, 'Tecnicatura', 2022]\n",
        "\n",
        "base_de_datos = [datosPersonales1, datosPersonales2, datosPersonales3, datosPersonales4]\n",
        "\n",
        "def datos_personales(database):\n",
        "  \"\"\"\n",
        "  La función datos_personales toma como parámetro una lista de listas que contienen datos personales, la recorre e imprime por pantalla cada una de las listas que contiene.\n",
        "  \"\"\"\n",
        "  for datos in database:\n",
        "    print('Datos personales: ', datos)\n",
        "\n",
        "datos_personales(base_de_datos)"
      ]
    },
    {
      "cell_type": "markdown",
      "id": "18adbeee",
      "metadata": {
        "id": "18adbeee"
      },
      "source": [
        "#### Tuplas"
      ]
    },
    {
      "cell_type": "markdown",
      "source": [
        "5. Escribir una función donde pida las materias que cursa unx alumnx de la TUIA, las almacene en una tupla y la devuelva."
      ],
      "metadata": {
        "id": "uxYxxjT4uAtW"
      },
      "id": "uxYxxjT4uAtW"
    },
    {
      "cell_type": "code",
      "source": [
        "def asignaturas_tuia():\n",
        "  \"\"\"\n",
        "  La función asignaturas_tuia no requiere ningún parámetro, pide que se ingrese las asignaturas de la TUIA que se están cursando y las devuelve en una tupla.\n",
        "  \"\"\"\n",
        "  asignaturas = []\n",
        "  while True:\n",
        "    asignatura = input('Ingrese una materia que cursa de la TUIA (* para salir): ')\n",
        "    if asignatura == '*':\n",
        "      break\n",
        "    else:\n",
        "      asignaturas.append(asignatura)\n",
        "  asignaturas_tuia = tuple(asignaturas)\n",
        "  return asignaturas_tuia\n",
        "\n",
        "asignaturas_tuia()"
      ],
      "metadata": {
        "id": "B3Zj_fewQyrx",
        "colab": {
          "base_uri": "https://localhost:8080/"
        },
        "outputId": "8b747af7-c2f0-4754-9b98-90fd05617e2e"
      },
      "id": "B3Zj_fewQyrx",
      "execution_count": null,
      "outputs": [
        {
          "name": "stdout",
          "output_type": "stream",
          "text": [
            "Ingrese una materia que cursa de la TUIA (* para salir): Álgebra\n",
            "Ingrese una materia que cursa de la TUIA (* para salir): Cálculo\n",
            "Ingrese una materia que cursa de la TUIA (* para salir): Entorno de Programación\n",
            "Ingrese una materia que cursa de la TUIA (* para salir): Programación I\n",
            "Ingrese una materia que cursa de la TUIA (* para salir): Introducción a la Inteligencia Artificial\n",
            "Ingrese una materia que cursa de la TUIA (* para salir): *\n"
          ]
        },
        {
          "output_type": "execute_result",
          "data": {
            "text/plain": [
              "('Álgebra',\n",
              " 'Cálculo',\n",
              " 'Entorno de Programación',\n",
              " 'Programación I',\n",
              " 'Introducción a la Inteligencia Artificial')"
            ]
          },
          "metadata": {},
          "execution_count": 6
        }
      ]
    },
    {
      "cell_type": "markdown",
      "source": [
        "6. A partir del ejercicio anterior, generar 2 tuplas donde se guarden las materias del primer cuatrimestre y del segundo respectivamente. \n",
        "Crear una nueva función que le pida al alumnx las materias que cursa y que le informe si corresponde al primer o segundo cuatrimestre."
      ],
      "metadata": {
        "id": "u4I3bI2uuCbc"
      },
      "id": "u4I3bI2uuCbc"
    },
    {
      "cell_type": "code",
      "execution_count": null,
      "id": "59efeff6",
      "metadata": {
        "id": "59efeff6",
        "colab": {
          "base_uri": "https://localhost:8080/"
        },
        "outputId": "49df53dd-1ea8-45ea-c017-adf9c2126cac"
      },
      "outputs": [
        {
          "name": "stdout",
          "output_type": "stream",
          "text": [
            "Ingrese una materia que cursa de la TUIA (* para salir): Cálculo\n",
            "Corresponde al segundo cuatrimestre de la TUIA\n",
            "Ingrese una materia que cursa de la TUIA (* para salir): Programación I\n",
            "Corresponde al primer cuatrimestre de la TUIA\n",
            "Ingrese una materia que cursa de la TUIA (* para salir): Base de Datos II\n",
            "Materia no encontrada\n",
            "Ingrese una materia que cursa de la TUIA (* para salir): *\n"
          ]
        }
      ],
      "source": [
        "def cuatrimestre_tuia():\n",
        "  \"\"\"\n",
        "  La función cuatrimestre_tuia no requiere ningún parámetro, evalúa si las asignaturas ingresadas son del primer o segundo cuatrimestre de la TUIA y en caso de serlo devuelve su cuatrimestre correspondiente.\n",
        "  \"\"\"\n",
        "  primer_cuatrimestre = ('Entorno de Programación', 'Inglés Técnico', 'Lógica', 'Matemática', 'Programación I')\n",
        "  segundo_cuatrimestre = ('Álgebra', 'Base de Datos I', 'Cálculo', 'Introducción a la Inteligencia Artifical', 'Programación II')\n",
        "  while True:\n",
        "    asignatura = input('Ingrese una materia que cursa de la TUIA (* para salir): ')\n",
        "    if asignatura == '*':\n",
        "      break\n",
        "    elif asignatura in primer_cuatrimestre:\n",
        "      print(\"Corresponde al primer cuatrimestre de la TUIA\")\n",
        "    elif asignatura in segundo_cuatrimestre:\n",
        "      print('Corresponde al segundo cuatrimestre de la TUIA')\n",
        "    else:\n",
        "      print('Materia no encontrada')\n",
        "      continue\n",
        "\n",
        "cuatrimestre_tuia()"
      ]
    },
    {
      "cell_type": "markdown",
      "id": "806981fb",
      "metadata": {
        "id": "806981fb"
      },
      "source": [
        "#### Diccionarios"
      ]
    },
    {
      "cell_type": "markdown",
      "source": [
        "7. Crear un diccionario de la lista de precios de una verdulería. "
      ],
      "metadata": {
        "id": "cbNjBJC9zFS3"
      },
      "id": "cbNjBJC9zFS3"
    },
    {
      "cell_type": "code",
      "source": [
        "verdulería = {'Tomate': 95, 'Banana': 45, 'Papa': 70, 'Cebolla': 60, 'Acelga': 145, 'Manzana': 70, 'Naranja': 50, 'Espinaca': 115, 'Lechuga': 140} "
      ],
      "metadata": {
        "id": "nVXK9JR5zRp9"
      },
      "id": "nVXK9JR5zRp9",
      "execution_count": null,
      "outputs": []
    },
    {
      "cell_type": "markdown",
      "source": [
        "8. A partir del diccionario anterior, imprimir en la pantalla el nombre de la fruta/verdura con su correspondiente precio."
      ],
      "metadata": {
        "id": "GQq19546zToD"
      },
      "id": "GQq19546zToD"
    },
    {
      "cell_type": "code",
      "source": [
        "for fruta_verdura, precio in verdulería.items():\n",
        "  print(fruta_verdura + ': $', precio)"
      ],
      "metadata": {
        "id": "NOo9bmdazsa7",
        "colab": {
          "base_uri": "https://localhost:8080/"
        },
        "outputId": "68e41d01-3d1d-4a10-efc7-d25d58444bef"
      },
      "id": "NOo9bmdazsa7",
      "execution_count": null,
      "outputs": [
        {
          "output_type": "stream",
          "name": "stdout",
          "text": [
            "Tomate: $ 95\n",
            "Banana: $ 45\n",
            "Papa: $ 70\n",
            "Cebolla: $ 60\n",
            "Acelga: $ 145\n",
            "Manzana: $ 70\n",
            "Naranja: $ 50\n",
            "Espinaca: $ 115\n",
            "Lechuga: $ 140\n"
          ]
        }
      ]
    },
    {
      "cell_type": "markdown",
      "source": [
        "9. Utilizando el diccionario anterior, pedirle al usuario que ingrese una fruta/verdura y que indique su precio. Si no hay en stock avisarle al cliente."
      ],
      "metadata": {
        "id": "mY7bF_Auzs7u"
      },
      "id": "mY7bF_Auzs7u"
    },
    {
      "cell_type": "code",
      "source": [
        "while True:\n",
        "  fruta__verdura = input('Ingrese una fruta/verdura (* para salir): ')\n",
        "  if fruta__verdura == '*':\n",
        "    break\n",
        "  else:\n",
        "    precio = int(input('Ingrese el precio: $ '))\n",
        "    if fruta__verdura not in verdulería:\n",
        "      print('No hay stock')\n",
        "    else:\n",
        "      None"
      ],
      "metadata": {
        "colab": {
          "base_uri": "https://localhost:8080/"
        },
        "id": "akmrmRFMgtlm",
        "outputId": "2805fa70-1310-4543-a1f2-4d4915723f09"
      },
      "id": "akmrmRFMgtlm",
      "execution_count": null,
      "outputs": [
        {
          "name": "stdout",
          "output_type": "stream",
          "text": [
            "Ingrese una fruta/verdura (* para salir): Tomate\n",
            "Ingrese el precio: $ 95\n",
            "Ingrese una fruta/verdura (* para salir): Mandarinas\n",
            "Ingrese el precio: $ 150\n",
            "No hay stock\n",
            "Ingrese una fruta/verdura (* para salir): *\n"
          ]
        }
      ]
    },
    {
      "cell_type": "markdown",
      "id": "eea999dc",
      "metadata": {
        "id": "eea999dc"
      },
      "source": [
        "\n",
        "10. Escribir una primer función que pida el nombre y 3 notas de unx alumnx, devuelva el nombre y una lista con las notas. \n",
        "Llamar dicha función tantas veces como alumnos haya y crear un diccionario donde la clave sea el nombre del estudiante y el valor la lista de sus notas.\n",
        "Por último, calcular el promedio de cada unx y mostrarlo en pantalla.\n",
        "\n",
        "Por ejemplo para \n",
        "    \n",
        "    alumnos = { \" Juan \" : [6 ,9 ,8] , \" Manuel \" : [9 ,10 ,9] , \" Martin \" : [5 ,6 ,7]}\n",
        "\n",
        "\n",
        "Debería mostrar:\n",
        "<dd>El promedio de Juan es 7.666666</dd>\n",
        "<dd>El promedio de Manuel es 9.333333</dd>\n",
        "<dd>El promedio de Martin es 6</dd>"
      ]
    },
    {
      "cell_type": "code",
      "source": [
        "def alumnx_notas():\n",
        "  \"\"\"\n",
        "  La función alumnx_notas no toma parámetros, pide que se ingrese el nombre de un alumnx y tres de sus notas, las almacena en una lista, y devuleve el nombre y la lista.\n",
        "  \"\"\" \n",
        "  nombre = input('Ingrese el nombre: ')\n",
        "  tres_notas = []\n",
        "  while len(tres_notas) < 3:\n",
        "    nota = int(input('Ingrese una nota: '))\n",
        "    tres_notas.append(nota)\n",
        "  return nombre, tres_notas\n",
        "\n",
        "cantidad_alumnxs = int(input('¿Cuántos alumnxs hay?: '))\n",
        "contador = 0\n",
        "alumnxs = {}\n",
        "while contador != cantidad_alumnxs:\n",
        "  nombre, tres_notas = alumnx_notas()\n",
        "  contador += 1\n",
        "  alumnxs[nombre] = tres_notas\n",
        "\n",
        "print(alumnxs)\n",
        "\n",
        "\"\"\"suma = 0\"\"\"\n",
        "for nombre in alumnxs:\n",
        "  suma = 0\n",
        "  for nota in alumnxs[nombre]:\n",
        "    suma += nota\n",
        "  promedio = suma/3\n",
        "  print('El promedio de ' + nombre + ' es: ', promedio) "
      ],
      "metadata": {
        "id": "4SafvNynwoj_",
        "colab": {
          "base_uri": "https://localhost:8080/"
        },
        "outputId": "68684215-594b-4d5b-e0cf-1a739b73913c"
      },
      "id": "4SafvNynwoj_",
      "execution_count": null,
      "outputs": [
        {
          "output_type": "stream",
          "name": "stdout",
          "text": [
            "¿Cuántos alumnxs hay?: 3\n",
            "Ingrese el nombre: Juan\n",
            "Ingrese una nota: 6\n",
            "Ingrese una nota: 8\n",
            "Ingrese una nota: 9\n",
            "Ingrese el nombre: Manuel\n",
            "Ingrese una nota: 9\n",
            "Ingrese una nota: 10\n",
            "Ingrese una nota: 9\n",
            "Ingrese el nombre: Martin\n",
            "Ingrese una nota: 5\n",
            "Ingrese una nota: 6\n",
            "Ingrese una nota: 7\n",
            "{'Juan': [6, 8, 9], 'Manuel': [9, 10, 9], 'Martin': [5, 6, 7]}\n",
            "El promedio de Juan es:  7.666666666666667\n",
            "El promedio de Manuel es:  9.333333333333334\n",
            "El promedio de Martin es:  6.0\n"
          ]
        }
      ]
    },
    {
      "cell_type": "markdown",
      "id": "b133b714",
      "metadata": {
        "id": "b133b714"
      },
      "source": [
        "11. Cartas como diccionario.\n",
        "<dl>\n",
        "<dd>a. Proponer una representación con diccionarios para un mazo completo de cartas.</dd>\n",
        "<dd>b. Escribir una función de poker que baraje cinco cartas de la baraja francesa e informe (devuelva\n",
        "el valor lógico correspondiente) si esas cartas forman o no un poker (es decir que hay 4 cartas con\n",
        "el mismo número).</dd>\n",
        "</dl>"
      ]
    },
    {
      "cell_type": "code",
      "execution_count": null,
      "id": "77a04057",
      "metadata": {
        "id": "77a04057"
      },
      "outputs": [],
      "source": [
        "#a)\n"
      ]
    }
  ],
  "metadata": {
    "kernelspec": {
      "display_name": "tuia",
      "language": "python",
      "name": "tuia"
    },
    "language_info": {
      "codemirror_mode": {
        "name": "ipython",
        "version": 3
      },
      "file_extension": ".py",
      "mimetype": "text/x-python",
      "name": "python",
      "nbconvert_exporter": "python",
      "pygments_lexer": "ipython3",
      "version": "3.8.10"
    },
    "colab": {
      "provenance": []
    }
  },
  "nbformat": 4,
  "nbformat_minor": 5
}
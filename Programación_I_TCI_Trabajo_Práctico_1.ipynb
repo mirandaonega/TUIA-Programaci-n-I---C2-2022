{
  "nbformat": 4,
  "nbformat_minor": 0,
  "metadata": {
    "colab": {
      "provenance": []
    },
    "kernelspec": {
      "name": "python3",
      "display_name": "Python 3"
    },
    "language_info": {
      "name": "python"
    }
  },
  "cells": [
    {
      "cell_type": "markdown",
      "source": [
        "**Ejercicio 1.**\n",
        "Escribir un programa que pregunte al usuario su edad y muestre por pantalla si es mayor de edad o no."
      ],
      "metadata": {
        "id": "_EZNFZkSkY_r"
      }
    },
    {
      "cell_type": "code",
      "source": [
        "edad=int(input(\"Ingrese su edad:\" ))\n",
        "if edad>=18:\n",
        "  print(\"Es mayor de edad.\")\n",
        "else:\n",
        "  print(\"No es mayor de edad.\")"
      ],
      "metadata": {
        "colab": {
          "base_uri": "https://localhost:8080/"
        },
        "id": "6DWm6ymF3KaA",
        "outputId": "1922413b-ebbc-4866-8472-5166eda47a44"
      },
      "execution_count": null,
      "outputs": [
        {
          "output_type": "stream",
          "name": "stdout",
          "text": [
            "Ingrese su edad:20\n",
            "Es mayor de edad.\n"
          ]
        }
      ]
    },
    {
      "cell_type": "markdown",
      "source": [
        "**Ejercicio 2.**\n",
        "Escribir un programa que almacene la cadena de caracteres contraseña en una variable, pregunte al usuario por la contraseña e imprima por pantalla si la contraseña introducida por el usuario coincide con la guardada en la variable sin tener en cuenta mayúsculas y minúsculas."
      ],
      "metadata": {
        "id": "1Y4IDUmPkgwG"
      }
    },
    {
      "cell_type": "code",
      "source": [
        "var1=str(\"contraseña\")\n",
        "var2=str(input(\"Ingrese la contraseña: \"))\n",
        "if var2.lower()==var1.lower():\n",
        "  print(\"La contraseña coincide con la guardada.\")\n",
        "else:\n",
        "  print(\"La contraseña no coincide con la guardada.\")"
      ],
      "metadata": {
        "colab": {
          "base_uri": "https://localhost:8080/"
        },
        "id": "WG00JdAf3v8U",
        "outputId": "020cac9c-235d-435f-c101-ea369a4fe660"
      },
      "execution_count": null,
      "outputs": [
        {
          "output_type": "stream",
          "name": "stdout",
          "text": [
            "Ingrese la contraseña: contraSEÑA\n",
            "La contraseña coincide con la guardada.\n"
          ]
        }
      ]
    },
    {
      "cell_type": "markdown",
      "source": [
        "**Ejercicio 3.**\n",
        "Escribir un programa para una empresa que tiene salas de juegos para todas las edades y quiere calcular de forma automática el precio que debe cobrar a sus clientes por entrar. El programa debe preguntar al usuario la edad del cliente y mostrar el precio de la entrada. Si el cliente es menor de 4 años puede entrar gratis, si tiene entre 4 y 18 años debe pagar 5 pesos y si es mayor de 18 años, 10 pesos."
      ],
      "metadata": {
        "id": "j556A-ZekplC"
      }
    },
    {
      "cell_type": "code",
      "source": [
        "edad=int(input(\"Ingrese su edad: \"))\n",
        "if edad<4:\n",
        "  print(\"El precio de su entrada es: gratis\" )\n",
        "elif 4<=edad<18:\n",
        "  print(\"El precio de su entrada es: $5\")\n",
        "else:\n",
        "  print(\"El precio de su entrada es de: $10\")"
      ],
      "metadata": {
        "id": "zMXehH3m5MFd",
        "colab": {
          "base_uri": "https://localhost:8080/"
        },
        "outputId": "d5af7705-ae3e-4c3d-86b7-15bb65f30e04"
      },
      "execution_count": null,
      "outputs": [
        {
          "output_type": "stream",
          "name": "stdout",
          "text": [
            "Ingrese su edad: 19\n",
            "El precio de su entrada es de: $10\n"
          ]
        }
      ]
    },
    {
      "cell_type": "markdown",
      "source": [
        "**Ejercicio 4.** Dada la nota de un parcial se quiere saber en que condición está el alumno.\n",
        "\n",
        "* Si la nota es mayor igual a 6 se debe mostrar en pantalla un mensaje \n",
        "que diga 'aprobado'.\n",
        "* Si la nota es mayor o igual a 0 y menor a 6: 'desaprobado'.\n",
        "* Si la nota no está entre 0 y 10: 'nota inválida'.\n",
        "\n",
        "Realizar las verificaciones en el orden anterior.\n"
      ],
      "metadata": {
        "id": "VmDCTJ95lTaD"
      }
    },
    {
      "cell_type": "code",
      "source": [
        "nota=float(input(\"Ingrese la nota del parcial: \"))\n",
        "if 10>=nota>=6:\n",
        "  print(\"aprobado\")\n",
        "elif 0<=nota<6:\n",
        "  print(\"desaprobado\")\n",
        "else:\n",
        "  print(\"nota inválida\")"
      ],
      "metadata": {
        "colab": {
          "base_uri": "https://localhost:8080/"
        },
        "id": "SL50jRZG9uUz",
        "outputId": "7ca3492e-962d-4a48-f122-c2c48ceede50"
      },
      "execution_count": null,
      "outputs": [
        {
          "output_type": "stream",
          "name": "stdout",
          "text": [
            "Ingrese la nota del parcial: 5.5\n",
            "desaprobado\n"
          ]
        }
      ]
    },
    {
      "cell_type": "markdown",
      "source": [
        "**Ejercicio 5.** Realizar el mismo programa pero con las verificaciones en el siguiente orden:\n",
        "\n",
        "* Si la nota no está entre 0 y 10: 'nota inválida'.\n",
        "* Si la nota es mayor o igual a 0 y menor a 6: 'desaprobado'.\n",
        "* Si la nota es mayor igual a 6 se debe mostrar en pantalla un mensaje que diga 'aprobado'."
      ],
      "metadata": {
        "id": "fc0EcDtFmG5U"
      }
    },
    {
      "cell_type": "code",
      "source": [
        "nota=float(input(\"Ingrese la nota del parcial: \"))\n",
        "if not 0<=nota<=10:\n",
        "  print(\"nota inválida\")\n",
        "elif 0<=nota<6:\n",
        "  print(\"desaprobado\")\n",
        "else:\n",
        "  print(\"aprobado\")"
      ],
      "metadata": {
        "id": "xdpx0K6B_IgN",
        "colab": {
          "base_uri": "https://localhost:8080/"
        },
        "outputId": "c5b98812-989a-400e-d07b-4ca3d19d466b"
      },
      "execution_count": null,
      "outputs": [
        {
          "output_type": "stream",
          "name": "stdout",
          "text": [
            "Ingrese la nota del parcial: 7.50\n",
            "aprobado\n"
          ]
        }
      ]
    },
    {
      "cell_type": "markdown",
      "source": [
        "**Ejercicio 6.** El gobierno nacional implementa un plan de vivienda subsidiado.\n",
        "\n",
        "Las condiciones para acceder a este tipo de financiacón son las siguientes:\n",
        "\n",
        "- tener nacionalidad argentina\n",
        "- ser mayor de edad\n",
        "- no poseer vivienda propia\n",
        "- ser empleado en relacion de dependencia, con ingresos netos no mayores a 2.646.009,01 de pesos anuales\n",
        "- ser monotributista, sin superar la categoria G (2.646.009,01 de facturación anual)\n",
        "\n",
        "\n",
        "Generar un programa que por medio del control de flujo por declaraciones condicionales if-elif-else pueda evaluar si la persona califica o no para el crédito e imprima por pantalla si califica o no para el mismo."
      ],
      "metadata": {
        "id": "ENbisUc-Imas"
      }
    },
    {
      "cell_type": "code",
      "source": [
        "nacionalidad = input(\"Nacionalidad: \").lower()\n",
        "if nacionalidad == \"argentina\":\n",
        "  edad = int(input(\"Edad: \"))\n",
        "  if edad >= 18:\n",
        "    tipo_vivienda = input(\"Tipo de vivienda propia/no propia: \").lower()\n",
        "    if tipo_vivienda == \"propia\":\n",
        "      trabajo = input(\"Relación de dependencia/Independiente/No trabajo: \").lower()\n",
        "      if trabajo == \"relación de dependencia\":\n",
        "        ingresos_netos = float(input(\"Ingrese el neto de sus ingresos en pesos: \"))\n",
        "        if ingresos_netos < 2646009.01:\n",
        "          monotributo = input(\"¿Es monotributista? SI/NO: \").lower()\n",
        "          if monotributo == \"si\":\n",
        "            facturación_anual = float(input(\"Ingrese su facturación anual en pesos: \"))\n",
        "            if facturación_anual < 2646009.01:\n",
        "              print(\"Usted califica para el crédito.\")\n",
        "            else:\n",
        "              print(\"Usted no califica para el crédito.\")\n",
        "          else:\n",
        "            print(\"Usted no califica para el crédito.\")\n",
        "        else:\n",
        "          print(\"Usted no califica para el crédito.\")\n",
        "      else:\n",
        "        print(\"Usted no califica para el crédito.\")\n",
        "    else:\n",
        "      print(\"Usted no califica para el crédito.\")\n",
        "  else:\n",
        "    print(\"Usted no califica para el crédito.\")\n",
        "else:\n",
        "  print(\"Usted no califica para el crédito.\")"
      ],
      "metadata": {
        "id": "bblGv8XkIqXM",
        "colab": {
          "base_uri": "https://localhost:8080/"
        },
        "outputId": "074fa379-cf44-4f8b-801f-f0c7f3a8ef4b"
      },
      "execution_count": null,
      "outputs": [
        {
          "output_type": "stream",
          "name": "stdout",
          "text": [
            "Nacionalidad: Argentina\n",
            "Edad: 30\n",
            "Tipo de vivienda propia/no propia: Propia\n",
            "Relación de dependencia/Independiente/No trabajo: Relación de dependencia\n",
            "Ingrese el neto de sus ingresos en pesos: 2000000\n",
            "¿Es monotributista? SI/NO: si\n",
            "Ingrese su facturación anual en pesos: 2700000\n",
            "Usted no califica para el crédito.\n"
          ]
        }
      ]
    }
  ]
}
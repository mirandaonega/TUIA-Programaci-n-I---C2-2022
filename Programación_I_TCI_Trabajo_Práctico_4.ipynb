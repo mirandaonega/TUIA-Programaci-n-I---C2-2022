{
  "nbformat": 4,
  "nbformat_minor": 0,
  "metadata": {
    "colab": {
      "provenance": []
    },
    "kernelspec": {
      "name": "python3",
      "display_name": "Python 3"
    },
    "language_info": {
      "name": "python"
    }
  },
  "cells": [
    {
      "cell_type": "markdown",
      "source": [
        "# Práctica While"
      ],
      "metadata": {
        "id": "OXsJtKBcWbI-"
      }
    },
    {
      "cell_type": "markdown",
      "source": [
        "**Ejercicio 1**\n",
        "Vamos a crear un juego para niñes que están aprendiendo a sumar. En pantalla se mostrarán dos números y se le debe pedir a la persona que calcule la suma de ambos. Si la suma es correcta felicitar a la persona. Sino, alentarla a que siga intentando hasta lograrlo.\n",
        "\n",
        "Extra: crear una función donde se le pase los numeros a sumar como parametro.\n",
        "\n",
        "Super extra: pasarle a la función 2 números enteros random"
      ],
      "metadata": {
        "id": "q4jePVxBWoWB"
      }
    },
    {
      "cell_type": "code",
      "source": [
        "sumar = int(input('Calcule el resultado de 4 + 5: '))\n",
        "\n",
        "while sumar != 9:\n",
        "  sumar = int(input('Intente de nuevo calcular el resultado de 4 + 5: '))\n",
        "\n",
        "print('¡Felicitaciones, acertaste el resultado!')"
      ],
      "metadata": {
        "id": "BsSr4u3KEQnG",
        "colab": {
          "base_uri": "https://localhost:8080/"
        },
        "outputId": "3c07f6c1-f71e-46a3-aa54-6e05cc5b4b26"
      },
      "execution_count": null,
      "outputs": [
        {
          "output_type": "stream",
          "name": "stdout",
          "text": [
            "Calcule el resultado de 4 + 5: 4\n",
            "Intente de nuevo calcular el resultado de 4 + 5: 5\n",
            "Intente de nuevo calcular el resultado de 4 + 5: 9\n",
            "¡Felicitaciones, acertaste el resultado!\n"
          ]
        }
      ]
    },
    {
      "cell_type": "code",
      "source": [
        "def aprender_a_sumar(a, b):\n",
        "  \"\"\"\n",
        "  La función aprender_a_sumar toma como parámetros dos números y pide calcular la suma entre ellos hasta ingresar el resultado correcto. \n",
        "  \"\"\"\n",
        "  print(a, '+', b)\n",
        "  sumar = int(input('Calcule el resultado: '))\n",
        "  while sumar != (a+b):\n",
        "    sumar = int(input('Intente de nuevo calcular el resultado: '))\n",
        "  print('¡Felicitaciones, acertaste el resultado!')\n",
        "\n",
        "aprender_a_sumar(4,5)"
      ],
      "metadata": {
        "colab": {
          "base_uri": "https://localhost:8080/"
        },
        "id": "lWWyUmgnItKW",
        "outputId": "930e741e-ae0e-48eb-8161-b311f64eb5d2"
      },
      "execution_count": null,
      "outputs": [
        {
          "output_type": "stream",
          "name": "stdout",
          "text": [
            "4 + 5\n",
            "Calcule el resultado: 4\n",
            "Intente de nuevo calcular el resultado: 5\n",
            "Intente de nuevo calcular el resultado: 9\n",
            "¡Felicitaciones, acertaste el resultado!\n"
          ]
        }
      ]
    },
    {
      "cell_type": "code",
      "source": [
        "import random \n",
        "def aprender_a_sumar():\n",
        "  \"\"\"\n",
        "  La función aprender_a_sumar no toma ningún parámetro y pide calcular la suma entre dos números aleatorios hasta ingresar el resultado correcto. \n",
        "  \"\"\"\n",
        "  numero_1 = random.randint(1,10) #Incluye el valor final\n",
        "  numero_2 = random.randint(1,10)\n",
        "  print(numero_1, '+', numero_2)\n",
        "  sumar = int(input('Calcule el resultado: '))\n",
        "  \n",
        "  while sumar != (numero_1 + numero_2):\n",
        "    sumar = int(input('Intente de nuevo calcular el resultado: '))\n",
        "  \n",
        "  print('¡Felicitaciones, acertaste el resultado!')\n",
        "\n",
        "aprender_a_sumar()"
      ],
      "metadata": {
        "colab": {
          "base_uri": "https://localhost:8080/"
        },
        "id": "ra4YbUS0MK9Z",
        "outputId": "c61a1dff-ecfc-4e41-a798-08f0cb7f54c2"
      },
      "execution_count": null,
      "outputs": [
        {
          "output_type": "stream",
          "name": "stdout",
          "text": [
            "1 + 4\n",
            "Calcule el resultado: 4\n",
            "Intente de nuevo calcular el resultado: 6\n",
            "Intente de nuevo calcular el resultado: 5\n",
            "¡Felicitaciones, acertaste el resultado!\n"
          ]
        }
      ]
    },
    {
      "cell_type": "markdown",
      "source": [
        "**Ejercicio 2** Escribir un programa que permita ingresar un número llamado valor_objetivo. Luego, se debe pedir al usuario que ingrese números por consola hasta que la suma de los números ingresados sea mayor o igual que valor_objetivo"
      ],
      "metadata": {
        "id": "j1UhCtaOWrap"
      }
    },
    {
      "cell_type": "code",
      "source": [
        "valor_objetivo = int(input('Ingrese un número como valor objetivo: '))\n",
        "numeros = int(input('Ingrese un número: '))\n",
        "suma_numeros = numeros\n",
        "\n",
        "while suma_numeros < valor_objetivo:\n",
        "  numeros = int(input('Ingrese otro número: '))  \n",
        "  suma_numeros += numeros\n",
        "\n",
        "print('La suma de todos los números es mayor o igual al valor objetivo.')"
      ],
      "metadata": {
        "id": "M2p9EothERDW",
        "colab": {
          "base_uri": "https://localhost:8080/"
        },
        "outputId": "ab913612-c832-428a-a30b-f325809d3ff6"
      },
      "execution_count": null,
      "outputs": [
        {
          "output_type": "stream",
          "name": "stdout",
          "text": [
            "Ingrese un número como valor objetivo: 10\n",
            "Ingrese un número: 1\n",
            "Ingrese otro número: 2\n",
            "Ingrese otro número: 3\n",
            "Ingrese otro número: 4\n",
            "La suma de todos los números es mayor o igual al valor objetivo.\n"
          ]
        }
      ]
    },
    {
      "cell_type": "markdown",
      "source": [
        "**Ejercicio 3** Escribir un programa que le permita al usuario ingresar la lista del supermercado. Para finalizar la lista, se deberá ingresar el símbolo *. Imprimir la lista del supermercado"
      ],
      "metadata": {
        "id": "9xjEuBQoW9xl"
      }
    },
    {
      "cell_type": "code",
      "source": [
        "productos = input('Ingrese un producto del supermercado (* para salir): ')\n",
        "lista_supermercado = []\n",
        "\n",
        "while productos != '*':\n",
        "  lista_supermercado.append(productos)\n",
        "  productos = input('Ingrese otro producto del supermercado (* para salir): ')\n",
        "\n",
        "print('\\n' + 'Lista del supermercado:')\n",
        "\n",
        "for producto in lista_supermercado:\n",
        "  print(producto)"
      ],
      "metadata": {
        "colab": {
          "base_uri": "https://localhost:8080/"
        },
        "id": "owiJoOgOEh4Y",
        "outputId": "baba3e66-680a-458e-f500-bf27774d3873"
      },
      "execution_count": null,
      "outputs": [
        {
          "output_type": "stream",
          "name": "stdout",
          "text": [
            "Ingrese un producto del supermercado (* para salir): fideos\n",
            "Ingrese otro producto del supermercado (* para salir): tomates\n",
            "Ingrese otro producto del supermercado (* para salir): queso\n",
            "Ingrese otro producto del supermercado (* para salir): cereales\n",
            "Ingrese otro producto del supermercado (* para salir): té\n",
            "Ingrese otro producto del supermercado (* para salir): *\n",
            "\n",
            "Lista del supermercado:\n",
            "fideos\n",
            "tomates\n",
            "queso\n",
            "cereales\n",
            "té\n"
          ]
        }
      ]
    },
    {
      "cell_type": "markdown",
      "source": [
        "**Ejercicio 4**\n",
        "Escriba un programa que acepte oraciones hasta que se ingrese un 'enter' y luego las imprima en mayusculas. \n",
        "\n",
        "Ayuda:\n",
        "- break\n",
        "- True\n",
        "- for\n",
        "- Listas"
      ],
      "metadata": {
        "id": "hdD8NsKgXAkH"
      }
    },
    {
      "cell_type": "code",
      "source": [
        "lista = []\n",
        "while True:\n",
        "  oraciones = input('Escriba una oración (Presione <enter> para salir): ')\n",
        "  oraciones = oraciones.upper()\n",
        "  if oraciones == '':\n",
        "    break\n",
        "  lista.append(oraciones)\n",
        "\n",
        "print('\\n')\n",
        "\n",
        "for oraciones in lista:\n",
        "  print(oraciones)"
      ],
      "metadata": {
        "id": "pkjtLYwKg0q4",
        "colab": {
          "base_uri": "https://localhost:8080/"
        },
        "outputId": "a4676242-1b3a-496c-e36d-bb2259c1225d"
      },
      "execution_count": null,
      "outputs": [
        {
          "output_type": "stream",
          "name": "stdout",
          "text": [
            "Escriba una oración (Presione <enter> para salir): casa de herrero cuchillo de palo\n",
            "Escriba una oración (Presione <enter> para salir): el que avisa no traiciona\n",
            "Escriba una oración (Presione <enter> para salir): todo bicho va a parar al asador\n",
            "Escriba una oración (Presione <enter> para salir): \n",
            "\n",
            "\n",
            "CASA DE HERRERO CUCHILLO DE PALO\n",
            "EL QUE AVISA NO TRAICIONA\n",
            "TODO BICHO VA A PARAR AL ASADOR\n"
          ]
        }
      ]
    }
  ]
}
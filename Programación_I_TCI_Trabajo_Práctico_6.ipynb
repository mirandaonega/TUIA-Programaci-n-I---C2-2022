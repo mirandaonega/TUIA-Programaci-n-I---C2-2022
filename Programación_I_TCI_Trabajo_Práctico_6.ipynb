{
  "nbformat": 4,
  "nbformat_minor": 0,
  "metadata": {
    "colab": {
      "provenance": []
    },
    "kernelspec": {
      "name": "python3",
      "display_name": "Python 3"
    },
    "language_info": {
      "name": "python"
    }
  },
  "cells": [
    {
      "cell_type": "markdown",
      "source": [
        "# Funciones"
      ],
      "metadata": {
        "id": "ANxTuUPVQXL9"
      }
    },
    {
      "cell_type": "markdown",
      "source": [
        "**Ejercicio 1**\n",
        "\n",
        "Se realizó una encuesta donde las personas debían indicar su edad y remuneración por hora. Como\n",
        "resultado se tiene una lista de tuplas con esos datos similar a la de abajo. Escribir una función donde\n",
        "dado un segmento de edad descripto por un nivel inferior li y uno superior ls, por ejemplo 20 - 25,\n",
        "devuelva la remuneración promedio para personas mayores o iguales a li y menores a ls y la cantidad\n",
        "de personas usadas para calcular ese promedio. Si en la lista no existe ningún dato dentro del entorno\n",
        "estudiado, devolver cero para el promedio.\n",
        "\n",
        "\n",
        "\n",
        "```\n",
        "lista = [(20 , 400) , (25 , 500) , (20 , 350) , (50 , 1000) , (60 , 1500) , (40 , 760) , (35 , 1020)]\n",
        "```\n",
        "\n"
      ],
      "metadata": {
        "id": "_6hz7UlaQnmY"
      }
    },
    {
      "cell_type": "code",
      "execution_count": null,
      "metadata": {
        "id": "IrxG7XrjQTov",
        "colab": {
          "base_uri": "https://localhost:8080/"
        },
        "outputId": "581e6db0-c3b6-496b-906f-979102b3a033"
      },
      "outputs": [
        {
          "output_type": "execute_result",
          "data": {
            "text/plain": [
              "(375.0, 2)"
            ]
          },
          "metadata": {},
          "execution_count": 2
        }
      ],
      "source": [
        "def remuneracion(li,ls):\n",
        "  \"\"\"\n",
        "  La función remuneracion toma como parámetros un segmento de edad donde li es el nivel inferior y ls el nivel superior, evalúa a as personas dentro \n",
        "  de ese segmento y devuelve la remuneración promedio para personas mayores o iguales a li y menores a ls, y la cantidad de personas que se utilizaron \n",
        "  para calcular ese promedio.\n",
        "  \"\"\"\n",
        "  lista = [(20 , 400) , (25 , 500) , (20 , 350) , (50 , 1000) , (60 , 1500) , (40 , 760) , (35 , 1020)]\n",
        "  suma_remuneraciones = 0\n",
        "  cantidad_personas = 0\n",
        "  promedio = 0\n",
        "  for elementos in lista:\n",
        "    tupla = elementos\n",
        "    if li <= tupla[0] < ls:\n",
        "      suma_remuneraciones += tupla[1]\n",
        "      cantidad_personas += 1\n",
        "      promedio = suma_remuneraciones/cantidad_personas\n",
        "  return promedio, cantidad_personas\n",
        "\n",
        "remuneracion(20,25)"
      ]
    },
    {
      "cell_type": "code",
      "source": [
        "remuneracion(18,20)"
      ],
      "metadata": {
        "colab": {
          "base_uri": "https://localhost:8080/"
        },
        "id": "sPT4iKhfvE32",
        "outputId": "91d26785-9603-4a2b-ee5c-1c1681078f33"
      },
      "execution_count": null,
      "outputs": [
        {
          "output_type": "execute_result",
          "data": {
            "text/plain": [
              "(0, 0)"
            ]
          },
          "metadata": {},
          "execution_count": 3
        }
      ]
    },
    {
      "cell_type": "markdown",
      "source": [
        "**Ejercicio 2**\n",
        "\n",
        "Escribir una función que calcule la distancia entre dos puntos en el plano. Los puntos deberán ingresar a la función como tuplas. Si solo se le pasa un argumento, por defecto el otro punto debe ser el origen."
      ],
      "metadata": {
        "id": "5p6BSIsWQ12t"
      }
    },
    {
      "cell_type": "code",
      "source": [
        "def distancia_dos_puntos(punto1:tuple=(0,0), punto2:tuple=(0,0)):\n",
        "  \"\"\"\n",
        "  La función distancia_dos_puntos toma como parámetros dos tuplas cuyos elementos corresponden a las coordenadas de cada punto, \n",
        "  calcula la distancia entre ellos y la devuelve.\n",
        "  \"\"\"\n",
        "  distancia = abs(punto1[0])-abs(punto2[0])+abs(punto1[1])-abs(punto2[1])\n",
        "  return distancia\n",
        "\n",
        "distancia_dos_puntos((5, 6), (4, 3))"
      ],
      "metadata": {
        "id": "UpxtDJzWRsUG",
        "colab": {
          "base_uri": "https://localhost:8080/"
        },
        "outputId": "ab36c9ba-7713-4876-a45a-97a16567a3b2"
      },
      "execution_count": null,
      "outputs": [
        {
          "output_type": "execute_result",
          "data": {
            "text/plain": [
              "4"
            ]
          },
          "metadata": {},
          "execution_count": 4
        }
      ]
    },
    {
      "cell_type": "code",
      "source": [
        "distancia_dos_puntos((-5,6))"
      ],
      "metadata": {
        "colab": {
          "base_uri": "https://localhost:8080/"
        },
        "id": "8mcSSVncaSIm",
        "outputId": "414df1d4-a608-44b8-d2c7-64c68ba562af"
      },
      "execution_count": null,
      "outputs": [
        {
          "output_type": "execute_result",
          "data": {
            "text/plain": [
              "11"
            ]
          },
          "metadata": {},
          "execution_count": 5
        }
      ]
    },
    {
      "cell_type": "markdown",
      "source": [
        "**Ejercicio 3**\n",
        "\n",
        "Un número es primo sí solo sí sus únicos divisores son 1 y el mismo número.\n",
        "\n",
        "a.  Escriba una función que determine si un numero es primo o no.\n",
        "\n",
        "b. Escriba otra función que reciba un número n e imprima todos los números primos menores que n."
      ],
      "metadata": {
        "id": "Clfl9IaFRvja"
      }
    },
    {
      "cell_type": "code",
      "source": [
        "#a)\n",
        "def numero_primo(numero):\n",
        "  \"\"\"\n",
        "  La función numero_primo toma como parámetro número y verifica si es un número primo o no.\n",
        "  \"\"\"\n",
        "  if numero == 2:\n",
        "    print('Es un número primo.')\n",
        "  else:\n",
        "    for num in range(2, numero):\n",
        "      if (numero % num) == 0 and num != numero:\n",
        "        print('No es un número primo.')\n",
        "        break\n",
        "      else:\n",
        "        print('Es un número primo.')\n",
        "        break\n",
        "\n",
        "numero_primo(9)"
      ],
      "metadata": {
        "id": "G8VeripagY9u",
        "colab": {
          "base_uri": "https://localhost:8080/"
        },
        "outputId": "39b11a3c-118d-4819-f967-468ea08e3709"
      },
      "execution_count": null,
      "outputs": [
        {
          "output_type": "stream",
          "name": "stdout",
          "text": [
            "Es un número primo.\n"
          ]
        }
      ]
    },
    {
      "cell_type": "code",
      "source": [
        "numero_primo(6)"
      ],
      "metadata": {
        "colab": {
          "base_uri": "https://localhost:8080/"
        },
        "id": "Rt_qvB-td6-L",
        "outputId": "c07049cd-6355-404a-9813-716b5cb32e53"
      },
      "execution_count": null,
      "outputs": [
        {
          "output_type": "stream",
          "name": "stdout",
          "text": [
            "No es un número primo.\n"
          ]
        }
      ]
    },
    {
      "cell_type": "code",
      "source": [
        "#b)\n",
        "def numeros_primos_menores(n):\n",
        "  \"\"\"\n",
        "  \n",
        "  \"\"\"\n",
        "  if n == 2:\n",
        "    print(n)\n",
        "  else:\n",
        "    for numero in range(2, n):\n",
        "      if numero == 2:\n",
        "        print(numero)\n",
        "      else:\n",
        "        for num in range(2, numero):\n",
        "          if numero % num == 0:\n",
        "            break\n",
        "          else:\n",
        "            print(numero)\n",
        "            break\n",
        "\n",
        "numeros_primos_menores(15)"
      ],
      "metadata": {
        "colab": {
          "base_uri": "https://localhost:8080/"
        },
        "id": "DESEgc9aeBX9",
        "outputId": "8d5bb032-1f1c-4ae9-ff5c-8d1f594186f2"
      },
      "execution_count": null,
      "outputs": [
        {
          "output_type": "stream",
          "name": "stdout",
          "text": [
            "2\n",
            "3\n",
            "5\n",
            "7\n",
            "9\n",
            "11\n",
            "13\n"
          ]
        }
      ]
    },
    {
      "cell_type": "markdown",
      "source": [
        "**Ejercicio 4**\n",
        "\n",
        "Escriba un programa que pida el ancho y altura de un rectángulo y el caracter a utilizar en el dibujo:\n",
        "\n",
        "\n",
        "```\n",
        "ancho = 5\n",
        "alto = 3\n",
        "caracter = o\n",
        "o o o o o\n",
        "o o o o o\n",
        "o o o o o\n",
        "```\n",
        "\n"
      ],
      "metadata": {
        "id": "2d4FT2zDSaYL"
      }
    },
    {
      "cell_type": "code",
      "source": [
        "def rectangulo(ancho:int, alto:int, caracter:str):\n",
        "  \"\"\"\n",
        "  La función rectángulo toma como parámetros ancho, alto y caracter, e imprime un rectángulo utilizando el caracter para formarlo y con las \n",
        "  dimensiones elegidas. \n",
        "  \"\"\"\n",
        "  print((((caracter + ' ') * ancho) + '\\n') * alto)\n",
        "\n",
        "rectangulo(10,5,'o')"
      ],
      "metadata": {
        "id": "5FpbNHWKSZx0",
        "colab": {
          "base_uri": "https://localhost:8080/"
        },
        "outputId": "bccf3c3f-b6ed-4723-bedb-ebd05d48e923"
      },
      "execution_count": null,
      "outputs": [
        {
          "output_type": "stream",
          "name": "stdout",
          "text": [
            "o o o o o o o o o o \n",
            "o o o o o o o o o o \n",
            "o o o o o o o o o o \n",
            "o o o o o o o o o o \n",
            "o o o o o o o o o o \n",
            "\n"
          ]
        }
      ]
    },
    {
      "cell_type": "markdown",
      "source": [
        "**Ejercicio 5**\n",
        "\n",
        "Crear una función lambda que permita conocer si un número es par."
      ],
      "metadata": {
        "id": "yEpVS5bkUIvx"
      }
    },
    {
      "cell_type": "code",
      "source": [
        "par = lambda a : a%2 == 0\n",
        "par(16)"
      ],
      "metadata": {
        "id": "Tr9Kp3pCUNDp",
        "colab": {
          "base_uri": "https://localhost:8080/"
        },
        "outputId": "20e228de-b8d7-4538-a47c-7b5f7f67e5eb"
      },
      "execution_count": null,
      "outputs": [
        {
          "output_type": "execute_result",
          "data": {
            "text/plain": [
              "True"
            ]
          },
          "metadata": {},
          "execution_count": 38
        }
      ]
    },
    {
      "cell_type": "code",
      "source": [
        "par(9)"
      ],
      "metadata": {
        "colab": {
          "base_uri": "https://localhost:8080/"
        },
        "id": "t3Sj5cHay2Rn",
        "outputId": "f800e920-157c-492a-b967-7ad719d06c88"
      },
      "execution_count": null,
      "outputs": [
        {
          "output_type": "execute_result",
          "data": {
            "text/plain": [
              "False"
            ]
          },
          "metadata": {},
          "execution_count": 39
        }
      ]
    },
    {
      "cell_type": "markdown",
      "source": [
        "**Ejercicio 6**\n",
        "\n",
        "Crear una función a la cual se le pase una cantidad variable de números y devuelva la multiplicación de los pares sumado los números impares.\n",
        "\n",
        "Ejemplo:\n",
        "\n",
        "\n",
        "```\n",
        "1+3*6+7*2 = 33\n",
        "```\n",
        "\n"
      ],
      "metadata": {
        "id": "gpmXVUUUUNhU"
      }
    },
    {
      "cell_type": "code",
      "source": [
        "def pares_impares(*numeros):\n",
        "  \"\"\"\n",
        "\n",
        "  \"\"\"\n",
        "  def multiplicar(*args):\n",
        "    multiplicacion = 0\n",
        "    for arg in args:\n",
        "      if arg == args[0]:\n",
        "        multiplicacion = arg\n",
        "      else:\n",
        "        multiplicacion = multiplicacion * arg\n",
        "    return multiplicacion\n",
        "  def sumar(*args):\n",
        "    suma_ = 0\n",
        "    for arg in args:\n",
        "      suma_ += arg\n",
        "    return suma_\n",
        "  "
      ],
      "metadata": {
        "id": "1FjiRfyvVRmo"
      },
      "execution_count": null,
      "outputs": []
    },
    {
      "cell_type": "markdown",
      "source": [
        "**Ejercicio 7**\n",
        "\n",
        "Dada la siguiente función \n",
        "\n",
        "\n",
        "```\n",
        "def resultado(x, y, op):\n",
        "    if op == '+':\n",
        "        return x + y\n",
        "    elif op == '-':\n",
        "        return x - y\n",
        "```\n",
        "\n",
        "Invocarla de manera convencional, con el parametro especial args y con kwargs.\n",
        "\n"
      ],
      "metadata": {
        "id": "CxGyR7i3VR9v"
      }
    },
    {
      "cell_type": "code",
      "source": [
        "def resultado1(x, y, op):\n",
        "  \"\"\"\n",
        "\n",
        "  \"\"\"\n",
        "  if op == '+':\n",
        "    return x + y\n",
        "  elif op == '-':\n",
        "    return x - y\n",
        "\n",
        "resultado1(10, 45, '+')"
      ],
      "metadata": {
        "id": "8bWWUUVFZYsM",
        "colab": {
          "base_uri": "https://localhost:8080/"
        },
        "outputId": "d3635491-5d55-4a44-fd4a-b37cec97bc19"
      },
      "execution_count": null,
      "outputs": [
        {
          "output_type": "execute_result",
          "data": {
            "text/plain": [
              "55"
            ]
          },
          "metadata": {},
          "execution_count": 61
        }
      ]
    },
    {
      "cell_type": "code",
      "source": [
        "def resultado2(op, *args):\n",
        "  \"\"\"\n",
        "\n",
        "  \"\"\"\n",
        "  if op == '+':\n",
        "    suma = 0\n",
        "    for arg in args:\n",
        "      suma += arg\n",
        "    return suma\n",
        "  elif op == '-':\n",
        "    resta = args[0]\n",
        "    for arg in args:\n",
        "      if arg == args[0]:\n",
        "        None\n",
        "      else:\n",
        "        resta -= arg\n",
        "    return resta\n",
        "\n",
        "resultado2('-', -20, 10, 30, 5)"
      ],
      "metadata": {
        "colab": {
          "base_uri": "https://localhost:8080/"
        },
        "id": "sXs0JDGE-7c9",
        "outputId": "d167abaf-87bd-4705-e178-8c61a9e035ce"
      },
      "execution_count": null,
      "outputs": [
        {
          "output_type": "execute_result",
          "data": {
            "text/plain": [
              "-65"
            ]
          },
          "metadata": {},
          "execution_count": 62
        }
      ]
    },
    {
      "cell_type": "code",
      "source": [
        "def resultado3(op, **kwargs):\n",
        "  \"\"\"\n",
        "\n",
        "  \"\"\"\n",
        "  if op == '+':\n",
        "    suma = 0\n",
        "    for clave, valor in kwargs.items():\n",
        "      suma += valor \n",
        "    return suma\n",
        "  elif op == '-':\n",
        "    pass"
      ],
      "metadata": {
        "id": "xfUlNE9wAGf8"
      },
      "execution_count": null,
      "outputs": []
    }
  ]
}
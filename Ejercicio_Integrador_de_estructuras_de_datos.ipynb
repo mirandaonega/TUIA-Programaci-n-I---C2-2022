{
  "nbformat": 4,
  "nbformat_minor": 0,
  "metadata": {
    "colab": {
      "provenance": []
    },
    "kernelspec": {
      "name": "python3",
      "display_name": "Python 3"
    },
    "language_info": {
      "name": "python"
    }
  },
  "cells": [
    {
      "cell_type": "markdown",
      "source": [
        "# Ejercicio Integrador - Estructura de datos\n"
      ],
      "metadata": {
        "id": "wbcXD-xooDcQ"
      }
    },
    {
      "cell_type": "markdown",
      "source": [
        "Se propone crear un programa que simule el ingreso o registro de una cuenta. Para ello se debe crear\n",
        "el siguiente menú con 5 opciones: \n",
        "\n",
        "* a. Ingresar: Pedirle al usuario que ingrese el usuario y contraseña, buscar en una colección de datos que crea apropiada y verificar que los datos ingresados sean correctos.\n",
        "* b. Registrarse: Crear un usuario y contraseña y guardarla en la colección de datos del punto 1.\n",
        "* c. Cerrar sesión: Para poder ingresar esta opción el usuario debe haber iniciado sesión o registrado. Si no lo hizo, ignorar la opción.\n",
        "* d. Salir: terminar el programa.\n",
        "* e. Agregar una opción que sea cambiar contraseña."
      ],
      "metadata": {
        "id": "H_H0c7wIoE9y"
      }
    },
    {
      "cell_type": "code",
      "source": [
        "credenciales = {'m':'s'}\n",
        "estado = False\n",
        "while True:\n",
        "  opc = menu(estado)\n",
        "  if opc == \"Ingresar\":\n",
        "    estado = ingreso()\n",
        "  elif opc == \"Registrarse\":\n",
        "    estado = registro()\n",
        "  # elif opc == \"Cambiar contraseña\":\n",
        "  #  contrasena(usuario)\n",
        "  elif opc == \"Hacer algo\":\n",
        "    pass\n",
        "  elif opc == \"Cerrar sesión\":\n",
        "    estado = cerrar_sesion()\n",
        "  elif opc == \"Salir\":\n",
        "    print(\"Usted eligió Salir\")\n",
        "    break\n",
        "  else:\n",
        "    print(\"Opción incorrecta.\")"
      ],
      "metadata": {
        "id": "lEPAb8Wqc17J"
      },
      "execution_count": null,
      "outputs": []
    },
    {
      "cell_type": "code",
      "source": [
        "def menu(state):\n",
        "  opc = input('Ingresar/Registarse/Cerrar sesión: ')\n",
        "  return opc"
      ],
      "metadata": {
        "id": "Fyfymtc4c_zR"
      },
      "execution_count": null,
      "outputs": []
    },
    {
      "cell_type": "code",
      "execution_count": null,
      "metadata": {
        "id": "ZC4qrjnkWVEm"
      },
      "outputs": [],
      "source": [
        "def registro():\n",
        "  \"\"\"\n",
        "  La función registro no toma ningún parámetro, le pide al usuario que ingrese un nombre de usuario para loguearse y, de no coincidir con ningún usuario ya existente, le pide \n",
        "  una contraseña, lo loguea y devuelve 1. De lo contrario, vuelve a pedir un nombre de usuario diferente hasta que no coincida con otro nombre de usuario \n",
        "  ya existente.\n",
        "  \"\"\"\n",
        "  nuevo_usuario = input('Nombre de usuario: ')\n",
        "  while nuevo_usuario in credenciales.keys():\n",
        "    print('El nombre de usuario ya está registrado. Elija otro.')\n",
        "    nuevo_usuario = input('Ingrese otro nombre de usuario: ')\n",
        "  contraseña = input('Ingrese una contraseña: ')\n",
        "  credenciales[nuevo_usuario] = contraseña\n",
        "  print('Se ha registrado. Ha iniciado sesión.')\n",
        "  return 1"
      ]
    }
  ]
}